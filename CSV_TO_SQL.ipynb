{
 "cells": [
  {
   "cell_type": "code",
   "execution_count": 10,
   "id": "determined-compression",
   "metadata": {},
   "outputs": [],
   "source": [
    "import sqlite3\n",
    "import pandas as pd\n",
    "\n",
    "SQL_FILENAME = \"/var/www/html/backend_new/backend_cyber/tracking/db.sqlite3\""
   ]
  },
  {
   "cell_type": "code",
   "execution_count": null,
   "id": "precious-travel",
   "metadata": {},
   "outputs": [],
   "source": []
  },
  {
   "cell_type": "code",
   "execution_count": null,
   "id": "literary-pottery",
   "metadata": {},
   "outputs": [],
   "source": [
    "CSV_NAME = \"/home/aiwebnetwork/Pictures/DB/IP2LOCATION-LITE-DB11.CSV/IP2LOCATION-LITE-DB11.CSV\"\n",
    "\n",
    "conn = sqlite3.connect(SQL_FILENAME)\n",
    "cur = con.cursor()\n",
    "\n",
    "columns =['ip_from','ip_to','country_code','country_name','region_name','city_name','latitude','longitude','zip_code','time_zone']\n",
    "# load the data into a Pandas DataFrame\n",
    "users = pd.read_csv(CSV_NAME, names=columns)\n",
    "# users.head()\n",
    "# write the data to a sqlite table\n",
    "users.to_sql('ip2location_db11', conn, if_exists='append', index = False)"
   ]
  },
  {
   "cell_type": "code",
   "execution_count": null,
   "id": "comfortable-navigation",
   "metadata": {},
   "outputs": [],
   "source": []
  },
  {
   "cell_type": "code",
   "execution_count": 11,
   "id": "reduced-homework",
   "metadata": {},
   "outputs": [
    {
     "name": "stderr",
     "output_type": "stream",
     "text": [
      "/home/aiwebnetwork/.conda/envs/style-tran-venv/lib/python3.6/site-packages/IPython/core/interactiveshell.py:3072: DtypeWarning: Columns (0,1,8) have mixed types.Specify dtype option on import or set low_memory=False.\n",
      "  interactivity=interactivity, compiler=compiler, result=result)\n"
     ]
    }
   ],
   "source": [
    "CSV_NAME = \"/home/aiwebnetwork/Pictures/DB/IP2LOCATION-LITE-DB11.IPV6.CSV/IP2LOCATION-LITE-DB11.IPV6.CSV\"\n",
    "\n",
    "conn = sqlite3.connect(SQL_FILENAME)\n",
    "cur = con.cursor()\n",
    "\n",
    "columns =['ip_from','ip_to','country_code','country_name','region_name','city_name','latitude','longitude','zip_code','time_zone']\n",
    "# load the data into a Pandas DataFrame\n",
    "users = pd.read_csv(CSV_NAME, names=columns)\n",
    "# users.head()\n",
    "# write the data to a sqlite table\n",
    "users.to_sql('ip2location_db11_ipv6', conn, if_exists='append', index = False)"
   ]
  },
  {
   "cell_type": "code",
   "execution_count": null,
   "id": "adequate-funds",
   "metadata": {},
   "outputs": [],
   "source": []
  },
  {
   "cell_type": "code",
   "execution_count": 12,
   "id": "cathedral-assumption",
   "metadata": {},
   "outputs": [],
   "source": [
    "CSV_NAME = \"/home/aiwebnetwork/Pictures/DB/IP2LOCATION-LITE-ASN.CSV/IP2LOCATION-LITE-ASN.CSV\"\n",
    "\n",
    "conn = sqlite3.connect(SQL_FILENAME)\n",
    "cur = con.cursor()\n",
    "\n",
    "columns =['ip_from','ip_to','cidr','asn','as_name']\n",
    "# load the data into a Pandas DataFrame\n",
    "users = pd.read_csv(CSV_NAME, names=columns)\n",
    "# users.head()\n",
    "# write the data to a sqlite table\n",
    "users.to_sql('ip2location_asn', conn, if_exists='append', index = False)"
   ]
  },
  {
   "cell_type": "code",
   "execution_count": null,
   "id": "classified-commercial",
   "metadata": {},
   "outputs": [],
   "source": []
  },
  {
   "cell_type": "code",
   "execution_count": 13,
   "id": "metropolitan-customs",
   "metadata": {},
   "outputs": [],
   "source": [
    "CSV_NAME = \"/home/aiwebnetwork/Pictures/DB/IP2LOCATION-LITE-ASN.IPV6.CSV/IP2LOCATION-LITE-ASN.IPV6.CSV\"\n",
    "\n",
    "conn = sqlite3.connect(SQL_FILENAME)\n",
    "cur = con.cursor()\n",
    "\n",
    "columns =['ip_from','ip_to','cidr','asn','as_name']\n",
    "# load the data into a Pandas DataFrame\n",
    "users = pd.read_csv(CSV_NAME, names=columns)\n",
    "# users.head()\n",
    "# write the data to a sqlite table\n",
    "users.to_sql('ip2location_asn_ipv6', conn, if_exists='append', index = False)"
   ]
  },
  {
   "cell_type": "code",
   "execution_count": null,
   "id": "exciting-trading",
   "metadata": {},
   "outputs": [],
   "source": []
  },
  {
   "cell_type": "code",
   "execution_count": 15,
   "id": "innocent-credits",
   "metadata": {},
   "outputs": [],
   "source": [
    "\n",
    "CSV_NAME = \"/home/aiwebnetwork/Pictures/DB/IP2PROXY-LITE-PX10.CSV/IP2PROXY-LITE-PX10.CSV\"\n",
    "\n",
    "conn = sqlite3.connect(SQL_FILENAME)\n",
    "cur = con.cursor()\n",
    "\n",
    "columns =['ip_from','ip_to','proxy_type','country_code','country_name','region_name','city_name','isp','domain','usage_type','asn','as_name','last_seen','threat']\n",
    "# load the data into a Pandas DataFrame\n",
    "users = pd.read_csv(CSV_NAME, names=columns)\n",
    "# users.head()\n",
    "# write the data to a sqlite table\n",
    "users.to_sql('ip2proxy_px10', conn, if_exists='append', index = False)"
   ]
  },
  {
   "cell_type": "code",
   "execution_count": null,
   "id": "incomplete-constraint",
   "metadata": {},
   "outputs": [],
   "source": []
  },
  {
   "cell_type": "code",
   "execution_count": 16,
   "id": "understood-board",
   "metadata": {},
   "outputs": [],
   "source": [
    "\n",
    "CSV_NAME = \"/home/aiwebnetwork/Pictures/DB/IP2PROXY-LITE-PX10.IPV6.CSV/IP2PROXY-LITE-PX10.IPV6.CSV\"\n",
    "\n",
    "conn = sqlite3.connect(SQL_FILENAME)\n",
    "cur = con.cursor()\n",
    "\n",
    "columns =['ip_from','ip_to','proxy_type','country_code','country_name','region_name','city_name','isp','domain','usage_type','asn','as_name','last_seen','threat']\n",
    "# load the data into a Pandas DataFrame\n",
    "users = pd.read_csv(CSV_NAME, names=columns)\n",
    "# users.head()\n",
    "# write the data to a sqlite table\n",
    "users.to_sql('ip2proxy_px10_ipv6', conn, if_exists='append', index = False)"
   ]
  }
 ],
 "metadata": {
  "kernelspec": {
   "display_name": "Python 3",
   "language": "python",
   "name": "python3"
  },
  "language_info": {
   "codemirror_mode": {
    "name": "ipython",
    "version": 3
   },
   "file_extension": ".py",
   "mimetype": "text/x-python",
   "name": "python",
   "nbconvert_exporter": "python",
   "pygments_lexer": "ipython3",
   "version": "3.6.12"
  }
 },
 "nbformat": 4,
 "nbformat_minor": 5
}
